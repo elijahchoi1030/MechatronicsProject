{
 "cells": [
  {
   "cell_type": "code",
   "execution_count": 39,
   "metadata": {},
   "outputs": [
    {
     "name": "stdout",
     "output_type": "stream",
     "text": [
      "[[0. 1. 2. 3. 2. 1. 0.]\n",
      " [1. 2. 3. 4. 3. 2. 1.]\n",
      " [2. 3. 4. 5. 4. 3. 2.]\n",
      " [3. 4. 5. 6. 5. 4. 3.]\n",
      " [2. 3. 4. 5. 4. 3. 2.]\n",
      " [1. 2. 3. 4. 3. 2. 1.]\n",
      " [0. 1. 2. 3. 2. 1. 0.]]\n"
     ]
    }
   ],
   "source": [
    "import numpy as np\n",
    "\n",
    "N = 7\n",
    "a = np.hstack((np.arange(0, N//2), np.linspace(N//2, 0, N//2+1)))\n",
    "b = a\n",
    "for i in range(1, N):\n",
    "    b = np.vstack((b, a+a[i]))\n",
    "print(b)"
   ]
  },
  {
   "cell_type": "code",
   "execution_count": 41,
   "metadata": {},
   "outputs": [
    {
     "ename": "AttributeError",
     "evalue": "'list' object has no attribute 'asList'",
     "output_type": "error",
     "traceback": [
      "\u001b[0;31m---------------------------------------------------------------------------\u001b[0m",
      "\u001b[0;31mAttributeError\u001b[0m                            Traceback (most recent call last)",
      "\u001b[1;32m/Users/choidongha/workspace/MechatronicsProject/src/test.ipynb Cell 2'\u001b[0m in \u001b[0;36m<cell line: 1>\u001b[0;34m()\u001b[0m\n\u001b[0;32m----> <a href='vscode-notebook-cell:/Users/choidongha/workspace/MechatronicsProject/src/test.ipynb#ch0000001?line=0'>1</a>\u001b[0m [[\u001b[39mTrue\u001b[39;49;00m, \u001b[39mFalse\u001b[39;49;00m], [\u001b[39mFalse\u001b[39;49;00m, \u001b[39mFalse\u001b[39;49;00m]]\u001b[39m.\u001b[39;49masList()\n",
      "\u001b[0;31mAttributeError\u001b[0m: 'list' object has no attribute 'asList'"
     ]
    }
   ],
   "source": [
    "[[True, False], [False, False]].asList()"
   ]
  },
  {
   "cell_type": "code",
   "execution_count": null,
   "metadata": {},
   "outputs": [],
   "source": []
  }
 ],
 "metadata": {
  "interpreter": {
   "hash": "aee8b7b246df8f9039afb4144a1f6fd8d2ca17a180786b69acc140d282b71a49"
  },
  "kernelspec": {
   "display_name": "Python 3.10.4 64-bit",
   "language": "python",
   "name": "python3"
  },
  "language_info": {
   "codemirror_mode": {
    "name": "ipython",
    "version": 3
   },
   "file_extension": ".py",
   "mimetype": "text/x-python",
   "name": "python",
   "nbconvert_exporter": "python",
   "pygments_lexer": "ipython3",
   "version": "3.10.4"
  },
  "orig_nbformat": 4
 },
 "nbformat": 4,
 "nbformat_minor": 2
}
